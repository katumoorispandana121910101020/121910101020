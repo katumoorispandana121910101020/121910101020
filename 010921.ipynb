{
  "nbformat": 4,
  "nbformat_minor": 0,
  "metadata": {
    "colab": {
      "name": "010921.ipynb",
      "provenance": [],
      "collapsed_sections": []
    },
    "kernelspec": {
      "name": "python3",
      "display_name": "Python 3"
    },
    "language_info": {
      "name": "python"
    }
  },
  "cells": [
    {
      "cell_type": "code",
      "metadata": {
        "colab": {
          "base_uri": "https://localhost:8080/"
        },
        "id": "__UY4jHWMk03",
        "outputId": "a92a4cf3-6f60-4dd1-bcea-992bd31ee08e"
      },
      "source": [
        "A= {1,2,3,4,5}\n",
        "B= {5,6,7}\n",
        "\n",
        "#print(2 in A)\n",
        "\n",
        "type(2 in A)\n"
      ],
      "execution_count": null,
      "outputs": [
        {
          "output_type": "execute_result",
          "data": {
            "text/plain": [
              "bool"
            ]
          },
          "metadata": {},
          "execution_count": 2
        }
      ]
    },
    {
      "cell_type": "code",
      "metadata": {
        "colab": {
          "base_uri": "https://localhost:8080/"
        },
        "id": "vZIZx9fPNLBY",
        "outputId": "16789c56-9ee3-4ebb-8f09-428410dbdfa9"
      },
      "source": [
        "A={1,2,3,4,5}\n",
        "B= {2,5}\n",
        "B.issubset(A)"
      ],
      "execution_count": null,
      "outputs": [
        {
          "output_type": "execute_result",
          "data": {
            "text/plain": [
              "True"
            ]
          },
          "metadata": {},
          "execution_count": 3
        }
      ]
    },
    {
      "cell_type": "code",
      "metadata": {
        "colab": {
          "base_uri": "https://localhost:8080/"
        },
        "id": "bYxMVFWqNXLY",
        "outputId": "484ec91c-0e08-4faf-821c-73ccf06ce19b"
      },
      "source": [
        "def is_subset(A,B):\n",
        "\n",
        "  for e in A:\n",
        "    if e in B:\n",
        "      pass\n",
        "\n",
        "    else:\n",
        "      return False\n",
        "  return True\n",
        "\n",
        "A= {1,2,3,4,5}\n",
        "B= {5,6,7}\n",
        "\n",
        "sub= is_subset(A,B)\n",
        "print(sub)\n",
        "\n"
      ],
      "execution_count": null,
      "outputs": [
        {
          "output_type": "stream",
          "name": "stdout",
          "text": [
            "False\n"
          ]
        }
      ]
    },
    {
      "cell_type": "code",
      "metadata": {
        "colab": {
          "base_uri": "https://localhost:8080/"
        },
        "id": "y898wGtlQ8o0",
        "outputId": "cfaaae96-c0a3-40ef-f572-ce035c77e80a"
      },
      "source": [
        "import numpy as np\n",
        "uni = set(np.arange(10))\n",
        "\n",
        "A = set(np.arange(0,9,2))\n",
        "\n",
        "B = set(np.arange(0,9,3))\n",
        "\n",
        "print(\"\\nuniversal set: \",uni)\n",
        "print(\"\\nset A : \",A)\n",
        "print(\"\\nsetB : \",B)\n",
        "\n",
        "print(\"A U B : \", A.union(B))"
      ],
      "execution_count": null,
      "outputs": [
        {
          "output_type": "stream",
          "name": "stdout",
          "text": [
            "\n",
            "universal set:  {0, 1, 2, 3, 4, 5, 6, 7, 8, 9}\n",
            "\n",
            "set A :  {0, 2, 4, 6, 8}\n",
            "\n",
            "setB :  {0, 3, 6}\n",
            "A U B :  {0, 2, 3, 4, 6, 8}\n"
          ]
        }
      ]
    }
  ]
}