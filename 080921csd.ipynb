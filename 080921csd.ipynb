{
  "nbformat": 4,
  "nbformat_minor": 0,
  "metadata": {
    "colab": {
      "name": "080921csd.ipynb",
      "provenance": [],
      "authorship_tag": "ABX9TyN9LZq5/Qp8pudVVf2cX8eo",
      "include_colab_link": true
    },
    "kernelspec": {
      "name": "python3",
      "display_name": "Python 3"
    },
    "language_info": {
      "name": "python"
    }
  },
  "cells": [
    {
      "cell_type": "markdown",
      "metadata": {
        "id": "view-in-github",
        "colab_type": "text"
      },
      "source": [
        "<a href=\"https://colab.research.google.com/github/katumoorispandana121910101020/121910101020/blob/main/080921csd.ipynb\" target=\"_parent\"><img src=\"https://colab.research.google.com/assets/colab-badge.svg\" alt=\"Open In Colab\"/></a>"
      ]
    },
    {
      "cell_type": "code",
      "metadata": {
        "colab": {
          "base_uri": "https://localhost:8080/"
        },
        "id": "3gZf2pvbxNtx",
        "outputId": "4f4c2f07-59f5-4a88-f131-3eb9bbc06f4a"
      },
      "source": [
        "# Determine the probability of getting a red heart from playing card set.\n",
        "\n",
        "def card_probability(fav,T_outcome):\n",
        "  prob = (fav/T_outcome)*100\n",
        "\n",
        "  return prob\n",
        "\n",
        "\n",
        "Red_heart = 13\n",
        "Sample_size = 52\n",
        "\n",
        "prob_Red_heart = card_probability(Red_heart,Sample_size)\n",
        "\n",
        "print(\"The answer is: \", prob_Red_heart)"
      ],
      "execution_count": 1,
      "outputs": [
        {
          "output_type": "stream",
          "name": "stdout",
          "text": [
            "The answer is:  25.0\n"
          ]
        }
      ]
    },
    {
      "cell_type": "code",
      "metadata": {
        "colab": {
          "base_uri": "https://localhost:8080/"
        },
        "id": "0L6dSkj7xW8J",
        "outputId": "e30a342d-0add-45db-ce3e-ae1509cf6e60"
      },
      "source": [
        "# Determine the probability of getting a face card from playing card set.\n",
        "\n",
        "def card_probability(fav,T_outcome):\n",
        "  prob = (fav/T_outcome)*100\n",
        "\n",
        "  return prob\n",
        "\n",
        "\n",
        "Face_card = 12\n",
        "Sample_size = 52\n",
        "\n",
        "prob_Facecard = round(card_probability(Face_card,Sample_size),0)\n",
        "\n",
        "print(\"\\nThe answer is: \", prob_Facecard)"
      ],
      "execution_count": 2,
      "outputs": [
        {
          "output_type": "stream",
          "name": "stdout",
          "text": [
            "\n",
            "The answer is:  23.0\n"
          ]
        }
      ]
    },
    {
      "cell_type": "code",
      "metadata": {
        "colab": {
          "base_uri": "https://localhost:8080/"
        },
        "id": "uGMyBxpRxajL",
        "outputId": "f19ffd41-af86-4244-b485-21298c95fca8"
      },
      "source": [
        "# A: Event of getting odd number\n",
        "# B: Event of getting number less than 4\n",
        "\n",
        "S ={1,2,3,4,5,6}\n",
        "A = {1,3,5}\n",
        "B = {1,2,3}\n",
        "\n",
        "prob = (len(A)+ len(B) - len(A.intersection (B))) /len(S)\n",
        "\n",
        "print(\"The anser is :  \",round((prob),2 ))"
      ],
      "execution_count": 5,
      "outputs": [
        {
          "output_type": "stream",
          "name": "stdout",
          "text": [
            "The anser is :   0.67\n"
          ]
        }
      ]
    }
  ]
}