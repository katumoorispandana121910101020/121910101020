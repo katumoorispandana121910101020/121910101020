{
  "nbformat": 4,
  "nbformat_minor": 0,
  "metadata": {
    "colab": {
      "name": "17092021.ipynb",
      "provenance": [],
      "authorship_tag": "ABX9TyMZT/rmsjCEhD0UGCQd6fxg",
      "include_colab_link": true
    },
    "kernelspec": {
      "name": "python3",
      "display_name": "Python 3"
    },
    "language_info": {
      "name": "python"
    }
  },
  "cells": [
    {
      "cell_type": "markdown",
      "metadata": {
        "id": "view-in-github",
        "colab_type": "text"
      },
      "source": [
        "<a href=\"https://colab.research.google.com/github/katumoorispandana121910101020/121910101020/blob/main/17092021.ipynb\" target=\"_parent\"><img src=\"https://colab.research.google.com/assets/colab-badge.svg\" alt=\"Open In Colab\"/></a>"
      ]
    },
    {
      "cell_type": "code",
      "metadata": {
        "colab": {
          "base_uri": "https://localhost:8080/"
        },
        "id": "3ZR6-i4xOqwO",
        "outputId": "4e7ce272-8ed8-40e2-ab6d-5744524f89b7"
      },
      "source": [
        "import math\n",
        "a = int (input(\"enter the number of right handed screws:\"))\n",
        "b = int(input(\"enter the number of left handed screws: \"))\n",
        "c = int(input (\"number of screws to be selected : \"))\n",
        "d =input(\"enter the replacement or without replacement: \")\n",
        "T = a+ b\n",
        "if d== \"without replacement\":\n",
        "  C1 = math.factorial(b)/math.factorial(b-c)*math.factorial(c)\n",
        "  C2 = math.factorial(T)/math.factorial(T-c)*math.factorial(c)\n",
        "  C = 1-(C1 /C2)\n",
        "  prob = print(\"prob pf atlest one: \",C)\n",
        "else:\n",
        "  prob1 =(b)/T\n",
        "  prob2 =(b)/T\n",
        "  P=1-(prob1*prob2)\n",
        "  print(\"the prob with replacement is : \",P)"
      ],
      "execution_count": 2,
      "outputs": [
        {
          "output_type": "stream",
          "name": "stdout",
          "text": [
            "enter the number of right handed screws:20\n",
            "enter the number of left handed screws: 10\n",
            "number of screws to be selected : 2\n",
            "enter the replacement or without replacement: with replacement\n",
            "the prob with replacement is :  0.8888888888888888\n"
          ]
        }
      ]
    },
    {
      "cell_type": "code",
      "metadata": {
        "colab": {
          "base_uri": "https://localhost:8080/"
        },
        "id": "VQqR659pRcvp",
        "outputId": "2b47e70f-4b7c-4828-db26-d8732ee80d11"
      },
      "source": [
        "import math\n",
        "a = int (input(\"enter the number of right handed screws:\"))\n",
        "b = int(input(\"enter the number of left handed screws: \"))\n",
        "c = int(input (\"number of screws to be selected : \"))\n",
        "d =input(\"enter the replacement or without replacement: \")\n",
        "T = a+ b\n",
        "if d== \"without replacement\":\n",
        "  C1 = math.factorial(b)/math.factorial(b-c)*math.factorial(c)\n",
        "  C2 = math.factorial(T)/math.factorial(T-c)*math.factorial(c)\n",
        "  C = 1-(C1 /C2)\n",
        "  prob = print(\"prob pf atlest one: \",C)\n",
        "else:\n",
        "  prob1 =(T-b)/T\n",
        "  prob2 =(T-be)/T\n",
        "  P=1-(prob1*prob2)\n",
        "  print(\"the prob with replacement is : \",P)"
      ],
      "execution_count": 3,
      "outputs": [
        {
          "output_type": "stream",
          "name": "stdout",
          "text": [
            "enter the number of right handed screws:20\n",
            "enter the number of left handed screws: 10\n",
            "number of screws to be selected : 2\n",
            "enter the replacement or without replacement: without replacement\n",
            "prob pf atlest one:  0.896551724137931\n"
          ]
        }
      ]
    },
    {
      "cell_type": "code",
      "metadata": {
        "id": "bpvyWYFTRQFL"
      },
      "source": [
        ""
      ],
      "execution_count": null,
      "outputs": []
    }
  ]
}