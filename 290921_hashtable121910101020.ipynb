{
  "nbformat": 4,
  "nbformat_minor": 0,
  "metadata": {
    "colab": {
      "name": "290921 hashtable121910101020.ipynb",
      "provenance": [],
      "collapsed_sections": [],
      "authorship_tag": "ABX9TyN7/t5lxZhwqRVKtelFmZLJ",
      "include_colab_link": true
    },
    "kernelspec": {
      "name": "python3",
      "display_name": "Python 3"
    },
    "language_info": {
      "name": "python"
    }
  },
  "cells": [
    {
      "cell_type": "markdown",
      "metadata": {
        "id": "view-in-github",
        "colab_type": "text"
      },
      "source": [
        "<a href=\"https://colab.research.google.com/github/katumoorispandana121910101020/121910101020/blob/main/290921_hashtable121910101020.ipynb\" target=\"_parent\"><img src=\"https://colab.research.google.com/assets/colab-badge.svg\" alt=\"Open In Colab\"/></a>"
      ]
    },
    {
      "cell_type": "code",
      "metadata": {
        "colab": {
          "base_uri": "https://localhost:8080/"
        },
        "id": "28ffnE0XZALs",
        "outputId": "f7121356-3026-48c6-806d-b0b2de9c3ae6"
      },
      "source": [
        "#Function to display hashtable\n",
        "def display_hash(hashTable):\n",
        "\n",
        "  for i in range (len(hashTable)):\n",
        "    print(i,end =\" \")\n",
        "\n",
        "    for j in hashTable[i]:\n",
        "      print(\"-->\",end = \" \")\n",
        "      print(j,end = \" \")\n",
        "\n",
        "    print()\n",
        "\n",
        "#creating hash table as \n",
        "# a  nested list.\n",
        "HashTable =[[]for _ in range(10)]\n",
        "\n",
        "#Hashing Function to return \n",
        "#key for every value\n",
        "\n",
        "def Hashing(keyvalue):\n",
        "    return keyvalue % len(HashTable)\n",
        "\n",
        "#Insert Function to add\n",
        "#values to the hash table\n",
        "def insert (Hashtable,keyvalue,value):\n",
        "\n",
        "    hash_key =Hashing(keyvalue)\n",
        "    Hashtable[hash_key].append(value)\n",
        "\n",
        "#Driver Code\n",
        "\n",
        "insert(HashTable,10,'Allahabad')\n",
        "insert(HashTable,25,'Mumbai')\n",
        "insert(HashTable,20,'Mathura')\n",
        "insert(HashTable,9,'Delhi')\n",
        "insert(HashTable,21,'Punjab')\n",
        "insert(HashTable,21,'Noida') \n",
        "\n",
        "display_hash(HashTable)"
      ],
      "execution_count": 3,
      "outputs": [
        {
          "output_type": "stream",
          "name": "stdout",
          "text": [
            "0 --> Allahabad --> Mathura \n",
            "1 --> Punjab --> Noida \n",
            "2 \n",
            "3 \n",
            "4 \n",
            "5 --> Mumbai \n",
            "6 \n",
            "7 \n",
            "8 \n",
            "9 --> Delhi \n"
          ]
        }
      ]
    }
  ]
}