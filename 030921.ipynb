{
  "nbformat": 4,
  "nbformat_minor": 0,
  "metadata": {
    "colab": {
      "name": "030921.ipynb",
      "provenance": [],
      "collapsed_sections": [],
      "authorship_tag": "ABX9TyOllAjJeMWjJk/3Dg0CsbXv",
      "include_colab_link": true
    },
    "kernelspec": {
      "name": "python3",
      "display_name": "Python 3"
    },
    "language_info": {
      "name": "python"
    }
  },
  "cells": [
    {
      "cell_type": "markdown",
      "metadata": {
        "id": "view-in-github",
        "colab_type": "text"
      },
      "source": [
        "<a href=\"https://colab.research.google.com/github/katumoorispandana121910101020/121910101020/blob/main/030921.ipynb\" target=\"_parent\"><img src=\"https://colab.research.google.com/assets/colab-badge.svg\" alt=\"Open In Colab\"/></a>"
      ]
    },
    {
      "cell_type": "code",
      "metadata": {
        "colab": {
          "base_uri": "https://localhost:8080/"
        },
        "id": "__UY4jHWMk03",
        "outputId": "a92a4cf3-6f60-4dd1-bcea-992bd31ee08e"
      },
      "source": [
        "A= {1,2,3,4,5}\n",
        "B= {5,6,7}\n",
        "\n",
        "#print(2 in A)\n",
        "\n",
        "type(2 in A)\n"
      ],
      "execution_count": null,
      "outputs": [
        {
          "output_type": "execute_result",
          "data": {
            "text/plain": [
              "bool"
            ]
          },
          "metadata": {},
          "execution_count": 2
        }
      ]
    },
    {
      "cell_type": "code",
      "metadata": {
        "colab": {
          "base_uri": "https://localhost:8080/"
        },
        "id": "vZIZx9fPNLBY",
        "outputId": "16789c56-9ee3-4ebb-8f09-428410dbdfa9"
      },
      "source": [
        "A={1,2,3,4,5}\n",
        "B= {2,5}\n",
        "B.issubset(A)"
      ],
      "execution_count": null,
      "outputs": [
        {
          "output_type": "execute_result",
          "data": {
            "text/plain": [
              "True"
            ]
          },
          "metadata": {},
          "execution_count": 3
        }
      ]
    },
    {
      "cell_type": "code",
      "metadata": {
        "colab": {
          "base_uri": "https://localhost:8080/"
        },
        "id": "bYxMVFWqNXLY",
        "outputId": "484ec91c-0e08-4faf-821c-73ccf06ce19b"
      },
      "source": [
        "def is_subset(A,B):\n",
        "\n",
        "  for e in A:\n",
        "    if e in B:\n",
        "      pass\n",
        "\n",
        "    else:\n",
        "      return False\n",
        "  return True\n",
        "\n",
        "A= {1,2,3,4,5}\n",
        "B= {5,6,7}\n",
        "\n",
        "sub= is_subset(A,B)\n",
        "print(sub)\n",
        "\n"
      ],
      "execution_count": null,
      "outputs": [
        {
          "output_type": "stream",
          "name": "stdout",
          "text": [
            "False\n"
          ]
        }
      ]
    },
    {
      "cell_type": "code",
      "metadata": {
        "colab": {
          "base_uri": "https://localhost:8080/"
        },
        "id": "y898wGtlQ8o0",
        "outputId": "a3806c09-e62d-487e-9b71-7df785efd9cd"
      },
      "source": [
        "import numpy as np\n",
        "uni = set(np.arange(10))\n",
        "\n",
        "A = set(np.arange(0,9,2))\n",
        "\n",
        "B = set(np.arange(0,9,3))\n",
        "\n",
        "print(\"\\nuniversal set: \",uni)\n",
        "print(\"\\nset A : \",A)\n",
        "print(\"\\nsetB : \",B)\n",
        "\n",
        "print(\"\\n A U B : \", A.union(B))\n",
        "print (\"\\n A n B : \",A.intersection(B))\n",
        "print (\"\\n A - B : \",A.difference(B))\n",
        "\n"
      ],
      "execution_count": 2,
      "outputs": [
        {
          "output_type": "stream",
          "name": "stdout",
          "text": [
            "\n",
            "universal set:  {0, 1, 2, 3, 4, 5, 6, 7, 8, 9}\n",
            "\n",
            "set A :  {0, 2, 4, 6, 8}\n",
            "\n",
            "setB :  {0, 3, 6}\n",
            "\n",
            " A U B :  {0, 2, 3, 4, 6, 8}\n",
            "\n",
            " A n B :  {0, 6}\n",
            "\n",
            " A - B :  {8, 2, 4}\n"
          ]
        }
      ]
    },
    {
      "cell_type": "code",
      "metadata": {
        "id": "1Fj9fO29i6bY"
      },
      "source": [
        "#implement De'Morgan theorem using Python"
      ],
      "execution_count": null,
      "outputs": []
    }
  ]
}